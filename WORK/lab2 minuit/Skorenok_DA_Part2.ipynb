{
 "cells": [
  {
   "cell_type": "code",
   "execution_count": 1,
   "metadata": {},
   "outputs": [
    {
     "name": "stdout",
     "output_type": "stream",
     "text": [
      "Welcome to JupyROOT 6.22/02\n"
     ]
    }
   ],
   "source": [
    "from ROOT import TMinuit\n",
    "import numpy as np\n",
    "import ROOT\n",
    "import matplotlib.pyplot as plt\n",
    "import ctypes"
   ]
  },
  {
   "cell_type": "code",
   "execution_count": 3,
   "metadata": {},
   "outputs": [
    {
     "data": {
      "image/png": "[encoded data removed]",
      "text/plain": [
       "<Figure size 432x288 with 1 Axes>"
      ]
     },
     "metadata": {
      "needs_background": "light"
     },
     "output_type": "display_data"
    }
   ],
   "source": [
    "xExpt, yExpt = np.loadtxt('phiSpectrum.txt', unpack=True)\n",
    "plt.hist(xExpt, weights=yExpt, bins=len(xExpt))\n",
    "plt.show()"
   ]
  },
  {
   "cell_type": "code",
   "execution_count": 28,
   "metadata": {},
   "outputs": [],
   "source": [
    "def func(x, par):\n",
    "    m_K = 0.493\n",
    "    A = par[0]\n",
    "    m_phi = par[1]\n",
    "    g0 = par[2]\n",
    "    p0 = np.sqrt(np.square(m_phi/2) - np.square(m_K))\n",
    "    p = np.sqrt(np.square(x/2) - np.square(m_K))\n",
    "    g_phi = (m_phi/x) * g0 * np.power(p/p0, 3)\n",
    "    BW = A*(x*m_phi*g_phi)/(np.square(np.square(x) - np.square(m_phi)) + np.square(m_phi*g_phi))\n",
    "    \n",
    "    alpha = par[3]\n",
    "    beta = par[4]\n",
    "    BG = alpha*np.power(x - 2*m_K, beta) if x >= 2*m_K else 0\n",
    "    \n",
    "    return BW + BG\n",
    "\n",
    "actPar = [5000, 20., 90., -0.2, 60.]\n",
    "rnd = ROOT.TRandom3()\n",
    "nChan = 120\n",
    "    \n",
    "nPar = 5\n",
    "dx = xExpt[1] - xExpt[0]\n",
    "# Area, g, x0, a_bg, b_bg = 5000, 20., 90., -0.2, 60.\n",
    "indPos = yExpt > 0\n",
    "nPos = indPos.sum()\n",
    "    \n",
    "# CHI-SQUARED\n",
    "def FCN(npar, gin, f, par, iflag):\n",
    "    global valFCN\n",
    "    yTheor = np.array([func(i, par) for i in xExpt]) \n",
    "    indPos = yExpt > 0\n",
    "    arrayFCN = np.square(yExpt[indPos] - yTheor[indPos])/yExpt[indPos]\n",
    "    valFCN = np.sum(arrayFCN)\n",
    "    f.value = valFCN\n",
    "    \n",
    "# BINNED MAXIMUM LIKELIHOOD\n",
    "def FCN2(npar, gin, f, par, iflag):\n",
    "    global valFCN\n",
    "    yTheor = np.array([func(i, par) for i in xExpt])\n",
    "    indPos = yExpt > 0\n",
    "    fi = yTheor[indPos]\n",
    "    di = yExpt[indPos]\n",
    "    fi = np.where(fi < 0, 1, fi)\n",
    "#     arrayFCN = fi - di * np.log(fi)\n",
    "    arrayFCN = (fi - di) - di * np.log(fi/di)\n",
    "    valFCN = np.sum(arrayFCN)\n",
    "    f.value = valFCN"
   ]
  },
  {
   "cell_type": "code",
   "execution_count": 5,
   "metadata": {},
   "outputs": [
    {
     "name": "stderr",
     "output_type": "stream",
     "text": [
      "<ipython-input-4-fe42b8cd8573>:7: RuntimeWarning: invalid value encountered in sqrt\n",
      "  p = np.sqrt(np.square(x/2) - np.square(m_K))\n",
      "<ipython-input-4-fe42b8cd8573>:13: RuntimeWarning: overflow encountered in power\n",
      "  BG = alpha*np.power(x - 2*m_K, beta) if x >= 2*m_K else 0\n"
     ]
    },
    {
     "name": "stdout",
     "output_type": "stream",
     "text": [
      "Chi/ndf =  1.9813290609096472\n",
      " **********\n",
      " **    1 **SET PRINT           1\n",
      " **********\n",
      " PARAMETER DEFINITIONS:\n",
      "    NO.   NAME         VALUE      STEP SIZE      LIMITS\n",
      "     1 Area         1.00000e+03  1.00000e-02     no limits\n",
      "     2 m_phi        1.00000e+00  1.00000e-04     no limits\n",
      "     3 g0           1.00000e+00  1.00000e-04     no limits\n",
      "     4 a_bg         1.00000e-01  1.00000e-04     no limits\n",
      "     5 b_bg         2.00000e+00  1.00000e-04     no limits\n",
      " **********\n",
      " **    2 **SET ERR            1\n",
      " **********\n",
      " **********\n",
      " **    3 **SET STR            1\n",
      " **********\n",
      " NOW USING STRATEGY  1: TRY TO BALANCE SPEED AGAINST RELIABILITY\n",
      " **********\n",
      " **    4 **MIGRAD        1e+04       1e-08\n",
      " **********\n",
      " FIRST CALL TO USER FUNCTION AT NEW START POINT, WITH IFLAG=4.\n",
      " START MIGRAD MINIMIZATION.  STRATEGY  1.  CONVERGENCE WHEN EDM .LT. 1.00e-11\n",
      " FCN=1.86485e+07 FROM MIGRAD    STATUS=INITIATE       39 CALLS          40 TOTAL\n",
      "                     EDM= unknown      STRATEGY= 1      NO ERROR MATRIX       \n",
      "  EXT PARAMETER               CURRENT GUESS       STEP         FIRST   \n",
      "  NO.   NAME      VALUE            ERROR          SIZE      DERIVATIVE \n",
      "   1  Area         1.00000e+03   1.00000e-02   0.00000e+00   3.74157e+04\n",
      "   2  m_phi        1.00000e+00   1.00000e-04   0.00000e+00  -5.04019e+09\n",
      "   3  g0           4.73864e-01   1.00000e-04  -5.26136e-01   2.41965e+07\n",
      "   4  a_bg         1.00000e-01   1.00000e-04   0.00000e+00  -7.70176e-01\n",
      "   5  b_bg         2.00000e+00   1.00000e-04   0.00000e+00   8.16686e-02\n",
      " MINUIT WARNING IN MIGRAD  \n",
      " ============== Negative diagonal element 1 in Error Matrix\n",
      " MINUIT WARNING IN MIGRAD  \n",
      " ============== Negative diagonal element 2 in Error Matrix\n",
      " MINUIT WARNING IN MIGRAD  \n",
      " ============== Negative diagonal element 3 in Error Matrix\n",
      " MINUIT WARNING IN MIGRAD  \n",
      " ============== Negative diagonal element 4 in Error Matrix\n",
      " MINUIT WARNING IN MIGRAD  \n",
      " ============== Negative diagonal element 5 in Error Matrix\n",
      " MINUIT WARNING IN MIGRAD  \n",
      " ============== 1.32179e+06 added to diagonal of error matrix\n",
      " MIGRAD FAILS TO FIND IMPROVEMENT\n",
      " MINUIT WARNING IN HESSE   \n",
      " ============== Negative diagonal element 5 in Error Matrix\n",
      " MINUIT WARNING IN HESSE   \n",
      " ============== 211.609 added to diagonal of error matrix\n",
      " EIGENVALUES OF SECOND-DERIVATIVE MATRIX:\n",
      "        -3.4241e+00  5.4281e-01  9.9955e-01  1.0263e+00  5.8554e+00\n",
      " MINUIT WARNING IN HESSE   \n",
      " ============== MATRIX FORCED POS-DEF BY ADDING 3.429922 TO DIAGONAL.\n",
      " FCN=14628.9 FROM HESSE     STATUS=NOT POSDEF     31 CALLS         408 TOTAL\n",
      "                     EDM=1.43997e+06    STRATEGY= 1      ERR MATRIX NOT POS-DEF\n",
      "  EXT PARAMETER                APPROXIMATE        STEP         FIRST   \n",
      "  NO.   NAME      VALUE            ERROR          SIZE      DERIVATIVE \n",
      "   1  Area         5.31404e+00   2.73928e-01   4.47304e-03  -7.46419e+01\n",
      "   2  m_phi        1.00559e+00   8.72761e-03   5.46857e-05  -2.55528e+05\n",
      "   3  g0           3.74532e-02   1.35195e-02   9.80923e-05   2.39092e+04\n",
      "   4  a_bg         2.37307e+03   4.61902e-02   1.89417e+02  -3.00627e-02\n",
      "   5  b_bg         4.59302e+00   1.57571e+00   2.54526e-02   1.22532e+02\n",
      " MIGRAD FAILS TO FIND IMPROVEMENT\n",
      " MIGRAD MINIMIZATION HAS CONVERGED.\n",
      " MIGRAD WILL VERIFY CONVERGENCE AND ERROR MATRIX.\n",
      " COVARIANCE MATRIX CALCULATED SUCCESSFULLY\n",
      " FCN=227.853 FROM MIGRAD    STATUS=CONVERGED    1070 CALLS        1071 TOTAL\n",
      "                     EDM=4.41842e-12    STRATEGY= 1      ERROR MATRIX ACCURATE \n",
      "  EXT PARAMETER                                   STEP         FIRST   \n",
      "  NO.   NAME      VALUE            ERROR          SIZE      DERIVATIVE \n",
      "   1  Area         1.11320e+01   1.49042e-01   9.60495e-04  -3.66170e-06\n",
      "   2  m_phi        1.01953e+00   5.23223e-05   4.86148e-07   1.36736e-02\n",
      "   3  g0           6.36858e-03   1.24280e-04   8.05882e-07  -7.39038e-03\n",
      "   4  a_bg         1.34493e+02   4.85769e+00   1.26253e-02  -9.19974e-07\n",
      "   5  b_bg         2.30595e-01   1.57669e-02   3.94676e-05   4.33571e-04\n",
      " EXTERNAL ERROR MATRIX.    NDIM=  25    NPAR=  5    ERR DEF=1\n",
      "  2.221e-02  3.541e-07  6.713e-06  6.016e-02  5.943e-04 \n",
      "  3.541e-07  2.738e-09  7.908e-10 -5.811e-06 -6.116e-09 \n",
      "  6.713e-06  7.908e-10  1.545e-08  2.251e-05  3.998e-07 \n",
      "  6.016e-02 -5.811e-06  2.251e-05  2.360e+01  7.023e-02 \n",
      "  5.943e-04 -6.116e-09  3.998e-07  7.023e-02  2.486e-04 \n",
      " PARAMETER  CORRELATION COEFFICIENTS  \n",
      "       NO.  GLOBAL      1      2      3      4      5\n",
      "        1  0.48871   1.000  0.045  0.362  0.083  0.253\n",
      "        2  0.12676   0.045  1.000  0.122 -0.023 -0.007\n",
      "        3  0.47893   0.362  0.122  1.000  0.037  0.204\n",
      "        4  0.93605   0.083 -0.023  0.037  1.000  0.917\n",
      "        5  0.94083   0.253 -0.007  0.204  0.917  1.000\n"
     ]
    }
   ],
   "source": [
    "minuit = ROOT.TMinuit(5)\n",
    "minuit.SetPrintLevel(1)\n",
    "minuit.SetFCN(FCN)\n",
    "errordef = 1.\n",
    "\n",
    "minuit.DefineParameter(0, 'Area', 1e3, 1e-2, 0., 0.)\n",
    "minuit.DefineParameter(1, 'm_phi', 1., 1e-4, 0., 0.)\n",
    "minuit.DefineParameter(2, 'g0', 1, 1e-4, 0., 0.)\n",
    "minuit.DefineParameter(3, 'a_bg', 0.1, 1e-4, 0., 0.)\n",
    "minuit.DefineParameter(4, 'b_bg', 2, 1e-4, 0., 0.)\n",
    "\n",
    "ierflg = ctypes.c_int(0)\n",
    "minuit.mncomd(\"SET ERR \" + str(1), ierflg)\n",
    "minuit.mncomd(\"SET STR 1\", ierflg)\n",
    "minuit.mncomd(\"MIGRAD 10000 1e-8\", ierflg)\n",
    "\n",
    "ndf = nChan - minuit.GetNumFreePars()\n",
    "print(\"Chi/ndf = \", valFCN/ndf)\n",
    "\n",
    "valPar = ctypes.c_double(0)\n",
    "errPar = ctypes.c_double(0)\n",
    "\n",
    "parFit = np.zeros(5)\n",
    "parErr = np.zeros(5)\n",
    "\n",
    "for i in range(nPar):\n",
    "    minuit.GetParameter(i, valPar, errPar)\n",
    "    parFit[i] = valPar.value\n",
    "    parErr[i] = errPar.value"
   ]
  },
  {
   "cell_type": "code",
   "execution_count": 29,
   "metadata": {},
   "outputs": [
    {
     "name": "stderr",
     "output_type": "stream",
     "text": [
      "<ipython-input-28-e87c48b05aff>:7: RuntimeWarning: invalid value encountered in sqrt\n",
      "  p = np.sqrt(np.square(x/2) - np.square(m_K))\n"
     ]
    },
    {
     "name": "stdout",
     "output_type": "stream",
     "text": [
      "Chi/ndf =  0.9642412123879772\n",
      " PARAMETER DEFINITIONS:\n",
      "    NO.   NAME         VALUE      STEP SIZE      LIMITS\n",
      "     1 Area         1.00000e+01  1.00000e-02     no limits\n",
      "     2 m_phi        1.00000e+00  1.00000e-04     no limits\n",
      "     3 g0           6.00000e-03  1.00000e-04     no limits\n",
      "     4 a_bg         1.00000e+02  1.00000e-04     no limits\n",
      "     5 b_bg         2.00000e-01  1.00000e-04     no limits\n",
      " **********\n",
      " **   20 **SET ERR            1\n",
      " **********\n",
      " **********\n",
      " **   21 **SET STR            1\n",
      " **********\n",
      " NOW USING STRATEGY  1: TRY TO BALANCE SPEED AGAINST RELIABILITY\n",
      " **********\n",
      " **   22 **MIGRAD        1e+04       1e-08\n",
      " **********\n",
      " FIRST CALL TO USER FUNCTION AT NEW START POINT, WITH IFLAG=4.\n",
      " START MIGRAD MINIMIZATION.  STRATEGY  1.  CONVERGENCE WHEN EDM .LT. 1.00e-11\n",
      " FCN=523.175 FROM MIGRAD    STATUS=INITIATE       56 CALLS       12854 TOTAL\n",
      "                     EDM= unknown      STRATEGY= 1      NO ERROR MATRIX       \n",
      "  EXT PARAMETER               CURRENT GUESS       STEP         FIRST   \n",
      "  NO.   NAME      VALUE            ERROR          SIZE      DERIVATIVE \n",
      "   1  Area         1.00000e+01   1.00000e-02   0.00000e+00  -1.11726e+02\n",
      "   2  m_phi        1.01877e+00   1.00000e-04   8.38150e-03  -2.91204e+05\n",
      "   3  g0           6.00000e-03   1.00000e-04   0.00000e+00  -6.41479e+04\n",
      "   4  a_bg         1.00000e+02   1.00000e-04   0.00000e+00  -1.69918e+01\n",
      "   5  b_bg         2.00000e-01   1.00000e-04   0.00000e+00   4.07870e+03\n",
      " MIGRAD MINIMIZATION HAS CONVERGED.\n",
      " FCN=110.888 FROM MIGRAD    STATUS=CONVERGED     161 CALLS       12959 TOTAL\n",
      "                     EDM=5.92028e-13    STRATEGY= 1  ERROR MATRIX UNCERTAINTY   2.6 per cent\n",
      "  EXT PARAMETER                                   STEP         FIRST   \n",
      "  NO.   NAME      VALUE            ERROR          SIZE      DERIVATIVE \n",
      "   1  Area         1.08908e+01   2.07444e-01   6.95373e-07  -5.73770e-07\n",
      "   2  m_phi        1.01953e+00   7.22909e-05  -9.63716e-11   2.29610e-03\n",
      "   3  g0           6.19369e-03   1.73286e-04   8.47245e-10  -5.00974e-03\n",
      "   4  a_bg         1.18795e+02   5.80900e+00   6.19074e-05  -6.68900e-07\n",
      "   5  b_bg         1.56545e-01   2.05491e-02   1.81754e-07   1.64386e-04\n",
      " EXTERNAL ERROR MATRIX.    NDIM=  25    NPAR=  5    ERR DEF=1\n",
      "  4.303e-02  6.752e-07  1.273e-05  6.864e-02  9.461e-04 \n",
      "  6.752e-07  5.226e-09  1.716e-09 -1.220e-05 -2.038e-08 \n",
      "  1.273e-05  1.716e-09  3.003e-08  1.571e-05  6.322e-07 \n",
      "  6.864e-02 -1.220e-05  1.571e-05  3.374e+01  1.095e-01 \n",
      "  9.461e-04 -2.038e-08  6.322e-07  1.095e-01  4.223e-04 \n",
      " PARAMETER  CORRELATION COEFFICIENTS  \n",
      "       NO.  GLOBAL      1      2      3      4      5\n",
      "        1  0.47195   1.000  0.045  0.354  0.057  0.222\n",
      "        2  0.14304   0.045  1.000  0.137 -0.029 -0.014\n",
      "        3  0.46973   0.354  0.137  1.000  0.016  0.178\n",
      "        4  0.93522   0.057 -0.029  0.016  1.000  0.917\n",
      "        5  0.93909   0.222 -0.014  0.178  0.917  1.000\n"
     ]
    }
   ],
   "source": [
    "minuit.SetFCN(FCN2)\n",
    "errordef = 1.\n",
    "    \n",
    "minuit.DefineParameter(0, 'Area', 10, 1e-2, 0., 0.)\n",
    "minuit.DefineParameter(1, 'm_phi', 1., 1e-4, 0., 0.)\n",
    "minuit.DefineParameter(2, 'g0', 6e-3, 1e-4, 0., 0.)\n",
    "minuit.DefineParameter(3, 'a_bg', 1e2, 1e-4, 0., 0.)\n",
    "minuit.DefineParameter(4, 'b_bg', 2e-1, 1e-4, 0., 0.)\n",
    "\n",
    "ierflg = ctypes.c_int(0)\n",
    "minuit.mncomd(\"SET ERR \" + str(1), ierflg)\n",
    "minuit.mncomd(\"SET STR 1\", ierflg)\n",
    "minuit.mncomd(\"MIGRAD 10000 1e-8\", ierflg)\n",
    "\n",
    "ndf = 120 - minuit.GetNumFreePars()\n",
    "print(\"Chi/ndf = \", valFCN/ndf)\n",
    "\n",
    "valPar = ctypes.c_double(0)\n",
    "errPar = ctypes.c_double(0)\n",
    "\n",
    "parFit2 = np.zeros(5)\n",
    "parErr2 = np.zeros(5)\n",
    "\n",
    "for i in range(nPar):\n",
    "    minuit.GetParameter(i, valPar, errPar)\n",
    "    parFit2[i] = valPar.value\n",
    "    parErr2[i] = errPar.value"
   ]
  },
  {
   "cell_type": "code",
   "execution_count": 32,
   "metadata": {},
   "outputs": [
    {
     "name": "stderr",
     "output_type": "stream",
     "text": [
      "<ipython-input-28-e87c48b05aff>:7: RuntimeWarning: invalid value encountered in sqrt\n",
      "  p = np.sqrt(np.square(x/2) - np.square(m_K))\n",
      "<ipython-input-28-e87c48b05aff>:8: RuntimeWarning: divide by zero encountered in double_scalars\n",
      "  g_phi = (m_phi/x) * g0 * np.power(p/p0, 3)\n"
     ]
    },
    {
     "data": {
      "image/png": "[encoded data removed]",
      "text/plain": [
       "<Figure size 1008x720 with 1 Axes>"
      ]
     },
     "metadata": {
      "needs_background": "light"
     },
     "output_type": "display_data"
    }
   ],
   "source": [
    "xx = np.linspace(0, 1.2, 10000)\n",
    "yy = [func(i, parFit) for i in xx]\n",
    "yy3 = [func(i, parFit2) for i in xx]\n",
    "\n",
    "plt.figure(figsize=(14,10))\n",
    "\n",
    "# plt.plot(xExpt, yExpt, '.', color='black', label='Data')\n",
    "plt.errorbar(xExpt, yExpt, np.sqrt(yExpt), fmt='.', color='black', capsize=2)\n",
    "plt.plot(xx, yy, color='r', lw=3, label=r'Fit ($\\chi^2$) $\\chi^2/ndf = 1.981$')\n",
    "plt.plot(xx, yy3, '-.' ,color='g', lw=2, label=r'Fit (BML) $\\chi^2/ndf = 0.964$')\n",
    "\n",
    "plt.legend(fontsize=15)\n",
    "\n",
    "plt.show()"
   ]
  },
  {
   "cell_type": "code",
   "execution_count": null,
   "metadata": {},
   "outputs": [],
   "source": []
  }
 ],
 "metadata": {
  "kernelspec": {
   "display_name": "Python 3",
   "language": "python",
   "name": "python3"
  },
  "language_info": {
   "codemirror_mode": {
    "name": "ipython",
    "version": 3
   },
   "file_extension": ".py",
   "mimetype": "text/x-python",
   "name": "python",
   "nbconvert_exporter": "python",
   "pygments_lexer": "ipython3",
   "version": "3.8.5"
  }
 },
 "nbformat": 4,
 "nbformat_minor": 4
}
